{
 "cells": [
  {
   "cell_type": "code",
   "execution_count": 2,
   "metadata": {},
   "outputs": [
    {
     "name": "stdout",
     "output_type": "stream",
     "text": [
      "Recherche d'un port serie...\n",
      "4 ports actifs ont ete trouves:\n",
      "1 : /dev/cu.wlan-debug\n",
      "2 : /dev/cu.Carbt\n",
      "3 : /dev/cu.Bluetooth-Incoming-Port\n",
      "4 : /dev/cu.usbmodem1201\n",
      "1: 9600   2: 38400    3: 115200\n"
     ]
    },
    {
     "ename": "KeyboardInterrupt",
     "evalue": "Interrupted by user",
     "output_type": "error",
     "traceback": [
      "\u001b[0;31m---------------------------------------------------------------------------\u001b[0m",
      "\u001b[0;31mKeyboardInterrupt\u001b[0m                         Traceback (most recent call last)",
      "Cell \u001b[0;32mIn [2], line 32\u001b[0m\n\u001b[1;32m     28\u001b[0m portChoisi \u001b[39m=\u001b[39m \u001b[39m\"\u001b[39m\u001b[39m/dev/cu.usbmodem1201\u001b[39m\u001b[39m\"\u001b[39m\n\u001b[1;32m     30\u001b[0m \u001b[39mprint\u001b[39m(\u001b[39m'\u001b[39m\u001b[39m1: 9600   2: 38400    3: 115200\u001b[39m\u001b[39m'\u001b[39m)\n\u001b[0;32m---> 32\u001b[0m baud \u001b[39m=\u001b[39m \u001b[39minput\u001b[39;49m(\u001b[39m'\u001b[39;49m\u001b[39m3\u001b[39;49m\u001b[39m'\u001b[39;49m)\n\u001b[1;32m     34\u001b[0m \u001b[39mif\u001b[39;00m (baud \u001b[39m==\u001b[39m \u001b[39m1\u001b[39m):\n\u001b[1;32m     35\u001b[0m     baud \u001b[39m=\u001b[39m \u001b[39m9600\u001b[39m\n",
      "File \u001b[0;32m/Library/Frameworks/Python.framework/Versions/3.10/lib/python3.10/site-packages/ipykernel/kernelbase.py:1177\u001b[0m, in \u001b[0;36mKernel.raw_input\u001b[0;34m(self, prompt)\u001b[0m\n\u001b[1;32m   1173\u001b[0m \u001b[39mif\u001b[39;00m \u001b[39mnot\u001b[39;00m \u001b[39mself\u001b[39m\u001b[39m.\u001b[39m_allow_stdin:\n\u001b[1;32m   1174\u001b[0m     \u001b[39mraise\u001b[39;00m StdinNotImplementedError(\n\u001b[1;32m   1175\u001b[0m         \u001b[39m\"\u001b[39m\u001b[39mraw_input was called, but this frontend does not support input requests.\u001b[39m\u001b[39m\"\u001b[39m\n\u001b[1;32m   1176\u001b[0m     )\n\u001b[0;32m-> 1177\u001b[0m \u001b[39mreturn\u001b[39;00m \u001b[39mself\u001b[39;49m\u001b[39m.\u001b[39;49m_input_request(\n\u001b[1;32m   1178\u001b[0m     \u001b[39mstr\u001b[39;49m(prompt),\n\u001b[1;32m   1179\u001b[0m     \u001b[39mself\u001b[39;49m\u001b[39m.\u001b[39;49m_parent_ident[\u001b[39m\"\u001b[39;49m\u001b[39mshell\u001b[39;49m\u001b[39m\"\u001b[39;49m],\n\u001b[1;32m   1180\u001b[0m     \u001b[39mself\u001b[39;49m\u001b[39m.\u001b[39;49mget_parent(\u001b[39m\"\u001b[39;49m\u001b[39mshell\u001b[39;49m\u001b[39m\"\u001b[39;49m),\n\u001b[1;32m   1181\u001b[0m     password\u001b[39m=\u001b[39;49m\u001b[39mFalse\u001b[39;49;00m,\n\u001b[1;32m   1182\u001b[0m )\n",
      "File \u001b[0;32m/Library/Frameworks/Python.framework/Versions/3.10/lib/python3.10/site-packages/ipykernel/kernelbase.py:1219\u001b[0m, in \u001b[0;36mKernel._input_request\u001b[0;34m(self, prompt, ident, parent, password)\u001b[0m\n\u001b[1;32m   1216\u001b[0m             \u001b[39mbreak\u001b[39;00m\n\u001b[1;32m   1217\u001b[0m \u001b[39mexcept\u001b[39;00m \u001b[39mKeyboardInterrupt\u001b[39;00m:\n\u001b[1;32m   1218\u001b[0m     \u001b[39m# re-raise KeyboardInterrupt, to truncate traceback\u001b[39;00m\n\u001b[0;32m-> 1219\u001b[0m     \u001b[39mraise\u001b[39;00m \u001b[39mKeyboardInterrupt\u001b[39;00m(\u001b[39m\"\u001b[39m\u001b[39mInterrupted by user\u001b[39m\u001b[39m\"\u001b[39m) \u001b[39mfrom\u001b[39;00m \u001b[39mNone\u001b[39m\n\u001b[1;32m   1220\u001b[0m \u001b[39mexcept\u001b[39;00m \u001b[39mException\u001b[39;00m:\n\u001b[1;32m   1221\u001b[0m     \u001b[39mself\u001b[39m\u001b[39m.\u001b[39mlog\u001b[39m.\u001b[39mwarning(\u001b[39m\"\u001b[39m\u001b[39mInvalid Message:\u001b[39m\u001b[39m\"\u001b[39m, exc_info\u001b[39m=\u001b[39m\u001b[39mTrue\u001b[39;00m)\n",
      "\u001b[0;31mKeyboardInterrupt\u001b[0m: Interrupted by user"
     ]
    }
   ],
   "source": [
    "#!/usr/bin/env python\n",
    "# -*- coding: utf-8 -*-\n",
    "\n",
    "'''\n",
    "Envoi de données vers l'Arduino (série)\n",
    "'''\n",
    "import time\n",
    "import serial\n",
    "import serial.tools.list_ports\n",
    "\n",
    "print(\"Recherche d'un port serie...\")\n",
    "\n",
    "ports = serial.tools.list_ports.comports(include_links=False)\n",
    "\n",
    "if (len(ports) != 0): # on a trouvé au moins un port actif\n",
    "\n",
    "    if (len(ports) > 1):     # affichage du nombre de ports trouvés\n",
    "        print (str(len(ports)) + \" ports actifs ont ete trouves:\") \n",
    "    else:\n",
    "        print (\"1 port actif a ete trouve:\")\n",
    "\n",
    "    ligne = 1\n",
    "\n",
    "    for port in ports :  # affichage du nom de chaque port\n",
    "        print(str(ligne) + ' : ' + port.device)\n",
    "        ligne = ligne + 1\n",
    "\n",
    "    portChoisi = \"/dev/cu.usbmodem1201\"\n",
    "\n",
    "    print('1: 9600   2: 38400    3: 115200')\n",
    "\n",
    "    baud = input('3')\n",
    "\n",
    "    if (baud == 1):\n",
    "        baud = 9600\n",
    "    if (baud == 2):\n",
    "        baud = 38400\n",
    "    if (baud == 3):\n",
    "        baud = 115200\n",
    "\n",
    "    # on établit la communication série\n",
    "    arduino = serial.Serial(ports[portChoisi - 1].device, baud, timeout=1)\n",
    "    \n",
    "    print('Connexion a ' + arduino.name + ' a un baud rate de ' + str(baud))\n",
    "   \n",
    "    while True:\n",
    "        message = input('G01 A000 B090 C090 D090 E090 F010')\n",
    "        message2 = input('G01 A000 B090 C090 D090 E090 F073')\n",
    "        arduino.write(str(message))   # envoi du message série\n",
    "        time.sleep(3)\n",
    "        \n",
    "else: # on n'a pas trouvé de port actif\n",
    "    print(\"Aucun port actif n'a ete trouve\")"
   ]
  }
 ],
 "metadata": {
  "kernelspec": {
   "display_name": "Python 3",
   "language": "python",
   "name": "python3"
  },
  "language_info": {
   "codemirror_mode": {
    "name": "ipython",
    "version": 3
   },
   "file_extension": ".py",
   "mimetype": "text/x-python",
   "name": "python",
   "nbconvert_exporter": "python",
   "pygments_lexer": "ipython3",
   "version": "3.10.7 (v3.10.7:6cc6b13308, Sep  5 2022, 14:02:52) [Clang 13.0.0 (clang-1300.0.29.30)]"
  },
  "orig_nbformat": 4,
  "vscode": {
   "interpreter": {
    "hash": "aee8b7b246df8f9039afb4144a1f6fd8d2ca17a180786b69acc140d282b71a49"
   }
  }
 },
 "nbformat": 4,
 "nbformat_minor": 2
}
