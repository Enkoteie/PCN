{
 "cells": [
  {
   "cell_type": "code",
   "execution_count": 1,
   "metadata": {},
   "outputs": [
    {
     "name": "stdout",
     "output_type": "stream",
     "text": [
      " -- pip install --upgrade certifi\n",
      "Collecting certifi\n",
      "  Downloading certifi-2022.9.24-py3-none-any.whl (161 kB)\n",
      "     ━━━━━━━━━━━━━━━━━━━━━━━━━━━━━━━━━━━━━━━ 161.1/161.1 kB 2.5 MB/s eta 0:00:00\n",
      "Installing collected packages: certifi\n",
      "Successfully installed certifi-2022.9.24\n",
      " -- removing any existing file or link\n",
      " -- creating symlink to certifi certificate bundle\n",
      " -- setting permissions\n",
      " -- update complete\n"
     ]
    }
   ],
   "source": [
    "# install_certifi.py\n",
    "#\n",
    "# sample script to install or update a set of default Root Certificates\n",
    "# for the ssl module.  Uses the certificates provided by the certifi package:\n",
    "#       https://pypi.python.org/pypi/certifi\n",
    "\n",
    "import os\n",
    "import os.path\n",
    "import ssl\n",
    "import stat\n",
    "import subprocess\n",
    "import sys\n",
    "\n",
    "STAT_0o775 = ( stat.S_IRUSR | stat.S_IWUSR | stat.S_IXUSR\n",
    "             | stat.S_IRGRP | stat.S_IWGRP | stat.S_IXGRP\n",
    "             | stat.S_IROTH |                stat.S_IXOTH )\n",
    "\n",
    "\n",
    "def main():\n",
    "    openssl_dir, openssl_cafile = os.path.split(\n",
    "        ssl.get_default_verify_paths().openssl_cafile)\n",
    "\n",
    "    print(\" -- pip install --upgrade certifi\")\n",
    "    subprocess.check_call([sys.executable,\n",
    "        \"-E\", \"-s\", \"-m\", \"pip\", \"install\", \"--upgrade\", \"certifi\"])\n",
    "\n",
    "    import certifi\n",
    "\n",
    "    # change working directory to the default SSL directory\n",
    "    os.chdir(openssl_dir)\n",
    "    relpath_to_certifi_cafile = os.path.relpath(certifi.where())\n",
    "    print(\" -- removing any existing file or link\")\n",
    "    try:\n",
    "        os.remove(openssl_cafile)\n",
    "    except FileNotFoundError:\n",
    "        pass\n",
    "    print(\" -- creating symlink to certifi certificate bundle\")\n",
    "    os.symlink(relpath_to_certifi_cafile, openssl_cafile)\n",
    "    print(\" -- setting permissions\")\n",
    "    os.chmod(openssl_cafile, STAT_0o775)\n",
    "    print(\" -- update complete\")\n",
    "\n",
    "if __name__ == '__main__':\n",
    "    main()"
   ]
  }
 ],
 "metadata": {
  "kernelspec": {
   "display_name": "Python 3.10.7 64-bit",
   "language": "python",
   "name": "python3"
  },
  "language_info": {
   "codemirror_mode": {
    "name": "ipython",
    "version": 3
   },
   "file_extension": ".py",
   "mimetype": "text/x-python",
   "name": "python",
   "nbconvert_exporter": "python",
   "pygments_lexer": "ipython3",
   "version": "3.10.7"
  },
  "orig_nbformat": 4,
  "vscode": {
   "interpreter": {
    "hash": "aee8b7b246df8f9039afb4144a1f6fd8d2ca17a180786b69acc140d282b71a49"
   }
  }
 },
 "nbformat": 4,
 "nbformat_minor": 2
}
