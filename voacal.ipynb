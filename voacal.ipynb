{
 "cells": [
  {
   "cell_type": "code",
   "execution_count": 4,
   "metadata": {},
   "outputs": [
    {
     "name": "stdout",
     "output_type": "stream",
     "text": [
      "[0 0 0 0 0]\n"
     ]
    },
    {
     "name": "stderr",
     "output_type": "stream",
     "text": [
      "sh: handclose.mp3: command not found\n"
     ]
    }
   ],
   "source": [
    "# Import the required module for text \n",
    "# to speech conversion\n",
    "from gtts import gTTS\n",
    "\n",
    "# This module is imported so that we can \n",
    "# play the converted audio\n",
    "import os\n",
    "import numpy as np\n",
    "# The text that you want to convert to audio\n",
    "mytext = 'Hand close'\n",
    "\n",
    "# Language in which you want to convert\n",
    "language = 'en'\n",
    "\n",
    "# Passing the text and language to the engine, \n",
    "# here we have marked slow=False. Which tells \n",
    "# the module that the converted audio should \n",
    "# have a high speed\n",
    "myobj = gTTS(text=mytext, lang=language, slow=False)\n",
    "\n",
    "# Saving the converted audio in a mp3 file named\n",
    "# welcome \n",
    "myobj.save(\"handclose.mp3\")\n",
    "\n",
    "# Playing the converted file\n",
    "\n",
    "a =int(0)\n",
    "b =int(0)\n",
    "c =int(0)\n",
    "d =int(0)\n",
    "e =int(0)\n",
    "main = np.array([a,b,c,d,e])\n",
    "print(main)\n",
    "\n",
    "if main[0] == 0 :\n",
    "    os.system(\"handclose.mp3\")\n",
    "else :\n",
    "    print('rien')\n",
    "\n",
    "    a =int(1)\n",
    "\n",
    "    mytext = 'Hand open '\n",
    "\n",
    "    language = 'fr'\n",
    "\n",
    "    myobj = gTTS(text=mytext, lang=language, slow=False)\n",
    "\n",
    "    myobj.save(\"main2.mp3\")\n",
    "\n",
    "    os.system(\"main2.mp3\")\n",
    "\n",
    "\n",
    "    "
   ]
  }
 ],
 "metadata": {
  "kernelspec": {
   "display_name": "Python 3",
   "language": "python",
   "name": "python3"
  },
  "language_info": {
   "codemirror_mode": {
    "name": "ipython",
    "version": 3
   },
   "file_extension": ".py",
   "mimetype": "text/x-python",
   "name": "python",
   "nbconvert_exporter": "python",
   "pygments_lexer": "ipython3",
   "version": "3.10.7 (v3.10.7:6cc6b13308, Sep  5 2022, 14:02:52) [Clang 13.0.0 (clang-1300.0.29.30)]"
  },
  "orig_nbformat": 4,
  "vscode": {
   "interpreter": {
    "hash": "aee8b7b246df8f9039afb4144a1f6fd8d2ca17a180786b69acc140d282b71a49"
   }
  }
 },
 "nbformat": 4,
 "nbformat_minor": 2
}
